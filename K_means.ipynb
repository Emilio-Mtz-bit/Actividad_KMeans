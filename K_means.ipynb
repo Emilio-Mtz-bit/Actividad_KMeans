{
 "cells": [
  {
   "cell_type": "code",
   "execution_count": 41,
   "id": "a75258cb",
   "metadata": {},
   "outputs": [],
   "source": [
    "import pandas as pd\n",
    "from sklearn.cluster import KMeans"
   ]
  },
  {
   "cell_type": "code",
   "execution_count": 42,
   "id": "863f59ca",
   "metadata": {},
   "outputs": [],
   "source": [
    "data = pd.read_csv(\"Facebook Live Sellers en Tailandia.csv\")"
   ]
  },
  {
   "cell_type": "code",
   "execution_count": 43,
   "id": "962d1faf",
   "metadata": {},
   "outputs": [
    {
     "data": {
      "application/vnd.microsoft.datawrangler.viewer.v0+json": {
       "columns": [
        {
         "name": "index",
         "rawType": "int64",
         "type": "integer"
        },
        {
         "name": "status_id",
         "rawType": "object",
         "type": "string"
        },
        {
         "name": "status_type",
         "rawType": "object",
         "type": "string"
        },
        {
         "name": "status_published",
         "rawType": "object",
         "type": "string"
        },
        {
         "name": "num_reactions",
         "rawType": "int64",
         "type": "integer"
        },
        {
         "name": "num_comments",
         "rawType": "int64",
         "type": "integer"
        },
        {
         "name": "num_shares",
         "rawType": "int64",
         "type": "integer"
        },
        {
         "name": "num_likes",
         "rawType": "int64",
         "type": "integer"
        },
        {
         "name": "num_loves",
         "rawType": "int64",
         "type": "integer"
        },
        {
         "name": "num_wows",
         "rawType": "int64",
         "type": "integer"
        },
        {
         "name": "num_hahas",
         "rawType": "int64",
         "type": "integer"
        },
        {
         "name": "num_sads",
         "rawType": "int64",
         "type": "integer"
        },
        {
         "name": "num_angrys",
         "rawType": "int64",
         "type": "integer"
        },
        {
         "name": "Column1",
         "rawType": "float64",
         "type": "float"
        },
        {
         "name": "Column2",
         "rawType": "float64",
         "type": "float"
        },
        {
         "name": "Column3",
         "rawType": "float64",
         "type": "float"
        },
        {
         "name": "Column4",
         "rawType": "float64",
         "type": "float"
        }
       ],
       "ref": "bacb8f22-2511-4082-ada4-ee6b267e167c",
       "rows": [
        [
         "0",
         "246675545449582_1649696485147474",
         "video",
         "4/22/2018 6:00",
         "529",
         "512",
         "262",
         "432",
         "92",
         "3",
         "1",
         "1",
         "0",
         null,
         null,
         null,
         null
        ],
        [
         "1",
         "246675545449582_1649426988507757",
         "photo",
         "4/21/2018 22:45",
         "150",
         "0",
         "0",
         "150",
         "0",
         "0",
         "0",
         "0",
         "0",
         null,
         null,
         null,
         null
        ],
        [
         "2",
         "246675545449582_1648730588577397",
         "video",
         "4/21/2018 6:17",
         "227",
         "236",
         "57",
         "204",
         "21",
         "1",
         "1",
         "0",
         "0",
         null,
         null,
         null,
         null
        ],
        [
         "3",
         "246675545449582_1648576705259452",
         "photo",
         "4/21/2018 2:29",
         "111",
         "0",
         "0",
         "111",
         "0",
         "0",
         "0",
         "0",
         "0",
         null,
         null,
         null,
         null
        ],
        [
         "4",
         "246675545449582_1645700502213739",
         "photo",
         "4/18/2018 3:22",
         "213",
         "0",
         "0",
         "204",
         "9",
         "0",
         "0",
         "0",
         "0",
         null,
         null,
         null,
         null
        ]
       ],
       "shape": {
        "columns": 16,
        "rows": 5
       }
      },
      "text/html": [
       "<div>\n",
       "<style scoped>\n",
       "    .dataframe tbody tr th:only-of-type {\n",
       "        vertical-align: middle;\n",
       "    }\n",
       "\n",
       "    .dataframe tbody tr th {\n",
       "        vertical-align: top;\n",
       "    }\n",
       "\n",
       "    .dataframe thead th {\n",
       "        text-align: right;\n",
       "    }\n",
       "</style>\n",
       "<table border=\"1\" class=\"dataframe\">\n",
       "  <thead>\n",
       "    <tr style=\"text-align: right;\">\n",
       "      <th></th>\n",
       "      <th>status_id</th>\n",
       "      <th>status_type</th>\n",
       "      <th>status_published</th>\n",
       "      <th>num_reactions</th>\n",
       "      <th>num_comments</th>\n",
       "      <th>num_shares</th>\n",
       "      <th>num_likes</th>\n",
       "      <th>num_loves</th>\n",
       "      <th>num_wows</th>\n",
       "      <th>num_hahas</th>\n",
       "      <th>num_sads</th>\n",
       "      <th>num_angrys</th>\n",
       "      <th>Column1</th>\n",
       "      <th>Column2</th>\n",
       "      <th>Column3</th>\n",
       "      <th>Column4</th>\n",
       "    </tr>\n",
       "  </thead>\n",
       "  <tbody>\n",
       "    <tr>\n",
       "      <th>0</th>\n",
       "      <td>246675545449582_1649696485147474</td>\n",
       "      <td>video</td>\n",
       "      <td>4/22/2018 6:00</td>\n",
       "      <td>529</td>\n",
       "      <td>512</td>\n",
       "      <td>262</td>\n",
       "      <td>432</td>\n",
       "      <td>92</td>\n",
       "      <td>3</td>\n",
       "      <td>1</td>\n",
       "      <td>1</td>\n",
       "      <td>0</td>\n",
       "      <td>NaN</td>\n",
       "      <td>NaN</td>\n",
       "      <td>NaN</td>\n",
       "      <td>NaN</td>\n",
       "    </tr>\n",
       "    <tr>\n",
       "      <th>1</th>\n",
       "      <td>246675545449582_1649426988507757</td>\n",
       "      <td>photo</td>\n",
       "      <td>4/21/2018 22:45</td>\n",
       "      <td>150</td>\n",
       "      <td>0</td>\n",
       "      <td>0</td>\n",
       "      <td>150</td>\n",
       "      <td>0</td>\n",
       "      <td>0</td>\n",
       "      <td>0</td>\n",
       "      <td>0</td>\n",
       "      <td>0</td>\n",
       "      <td>NaN</td>\n",
       "      <td>NaN</td>\n",
       "      <td>NaN</td>\n",
       "      <td>NaN</td>\n",
       "    </tr>\n",
       "    <tr>\n",
       "      <th>2</th>\n",
       "      <td>246675545449582_1648730588577397</td>\n",
       "      <td>video</td>\n",
       "      <td>4/21/2018 6:17</td>\n",
       "      <td>227</td>\n",
       "      <td>236</td>\n",
       "      <td>57</td>\n",
       "      <td>204</td>\n",
       "      <td>21</td>\n",
       "      <td>1</td>\n",
       "      <td>1</td>\n",
       "      <td>0</td>\n",
       "      <td>0</td>\n",
       "      <td>NaN</td>\n",
       "      <td>NaN</td>\n",
       "      <td>NaN</td>\n",
       "      <td>NaN</td>\n",
       "    </tr>\n",
       "    <tr>\n",
       "      <th>3</th>\n",
       "      <td>246675545449582_1648576705259452</td>\n",
       "      <td>photo</td>\n",
       "      <td>4/21/2018 2:29</td>\n",
       "      <td>111</td>\n",
       "      <td>0</td>\n",
       "      <td>0</td>\n",
       "      <td>111</td>\n",
       "      <td>0</td>\n",
       "      <td>0</td>\n",
       "      <td>0</td>\n",
       "      <td>0</td>\n",
       "      <td>0</td>\n",
       "      <td>NaN</td>\n",
       "      <td>NaN</td>\n",
       "      <td>NaN</td>\n",
       "      <td>NaN</td>\n",
       "    </tr>\n",
       "    <tr>\n",
       "      <th>4</th>\n",
       "      <td>246675545449582_1645700502213739</td>\n",
       "      <td>photo</td>\n",
       "      <td>4/18/2018 3:22</td>\n",
       "      <td>213</td>\n",
       "      <td>0</td>\n",
       "      <td>0</td>\n",
       "      <td>204</td>\n",
       "      <td>9</td>\n",
       "      <td>0</td>\n",
       "      <td>0</td>\n",
       "      <td>0</td>\n",
       "      <td>0</td>\n",
       "      <td>NaN</td>\n",
       "      <td>NaN</td>\n",
       "      <td>NaN</td>\n",
       "      <td>NaN</td>\n",
       "    </tr>\n",
       "  </tbody>\n",
       "</table>\n",
       "</div>"
      ],
      "text/plain": [
       "                          status_id status_type  ... Column3  Column4\n",
       "0  246675545449582_1649696485147474       video  ...     NaN      NaN\n",
       "1  246675545449582_1649426988507757       photo  ...     NaN      NaN\n",
       "2  246675545449582_1648730588577397       video  ...     NaN      NaN\n",
       "3  246675545449582_1648576705259452       photo  ...     NaN      NaN\n",
       "4  246675545449582_1645700502213739       photo  ...     NaN      NaN\n",
       "\n",
       "[5 rows x 16 columns]"
      ]
     },
     "execution_count": 43,
     "metadata": {},
     "output_type": "execute_result"
    }
   ],
   "source": [
    "data.head()"
   ]
  },
  {
   "cell_type": "code",
   "execution_count": 44,
   "id": "03178399",
   "metadata": {},
   "outputs": [
    {
     "name": "stdout",
     "output_type": "stream",
     "text": [
      "<class 'pandas.core.frame.DataFrame'>\n",
      "RangeIndex: 7050 entries, 0 to 7049\n",
      "Data columns (total 16 columns):\n",
      " #   Column            Non-Null Count  Dtype  \n",
      "---  ------            --------------  -----  \n",
      " 0   status_id         7050 non-null   object \n",
      " 1   status_type       7050 non-null   object \n",
      " 2   status_published  7050 non-null   object \n",
      " 3   num_reactions     7050 non-null   int64  \n",
      " 4   num_comments      7050 non-null   int64  \n",
      " 5   num_shares        7050 non-null   int64  \n",
      " 6   num_likes         7050 non-null   int64  \n",
      " 7   num_loves         7050 non-null   int64  \n",
      " 8   num_wows          7050 non-null   int64  \n",
      " 9   num_hahas         7050 non-null   int64  \n",
      " 10  num_sads          7050 non-null   int64  \n",
      " 11  num_angrys        7050 non-null   int64  \n",
      " 12  Column1           0 non-null      float64\n",
      " 13  Column2           0 non-null      float64\n",
      " 14  Column3           0 non-null      float64\n",
      " 15  Column4           0 non-null      float64\n",
      "dtypes: float64(4), int64(9), object(3)\n",
      "memory usage: 881.4+ KB\n"
     ]
    }
   ],
   "source": [
    "data.info()"
   ]
  },
  {
   "cell_type": "code",
   "execution_count": 45,
   "id": "0d3e52ff",
   "metadata": {},
   "outputs": [],
   "source": [
    "\n",
    "from sklearn.preprocessing import StandardScaler\n",
    "\n",
    "\n",
    "cols = ['num_reactions', 'num_comments', 'num_shares', 'num_likes', \n",
    "        'num_loves', 'num_wows', 'num_hahas', 'num_sads', 'num_angrys']\n",
    "data_clean = data[cols]\n",
    "\n",
    "scaler = StandardScaler()\n",
    "data_scaled = scaler.fit_transform(data_clean)"
   ]
  },
  {
   "cell_type": "code",
   "execution_count": 46,
   "id": "81a01c40",
   "metadata": {},
   "outputs": [
    {
     "data": {
      "image/png": "[encoded data removed]",
      "text/plain": [
       "<Figure size 640x480 with 1 Axes>"
      ]
     },
     "metadata": {},
     "output_type": "display_data"
    }
   ],
   "source": [
    "import matplotlib.pyplot as plt\n",
    "inertia = []\n",
    "K_range = range(1, 11)\n",
    "\n",
    "for k in K_range:\n",
    "    kmeans = KMeans(n_clusters=k, random_state=42)\n",
    "    kmeans.fit(data_scaled)\n",
    "    inertia.append(kmeans.inertia_)\n",
    "\n",
    "plt.plot(K_range, inertia, 'o-')\n",
    "plt.xlabel('k')\n",
    "plt.ylabel('Inertia')\n",
    "plt.title('Método del codo')\n",
    "plt.show()"
   ]
  },
  {
   "cell_type": "code",
   "execution_count": 47,
   "id": "c31fd250",
   "metadata": {},
   "outputs": [
    {
     "name": "stdout",
     "output_type": "stream",
     "text": [
      "Centros de los clusters (normalizados):\n",
      " [[-0.25722333 -0.16182546 -0.16879272 -0.24755621 -0.15943754 -0.08662034\n",
      "  -0.10210184 -0.07707453 -0.09963502]\n",
      " [ 0.7553111   2.9641957   2.80712266  0.52353278  2.52715747  0.36742108\n",
      "   1.58732311  1.45449107  1.75813577]\n",
      " [ 3.45905342 -0.18300344 -0.21630938  3.5809782  -0.24102523  0.13185669\n",
      "  -0.12601319 -0.13222416 -0.1482902 ]\n",
      " [ 3.00022773  1.57658673  5.87059958  2.07350798  7.75488912 14.13564036\n",
      "   4.98536965  0.810732    2.38450319]]\n"
     ]
    }
   ],
   "source": [
    "from sklearn.cluster import KMeans\n",
    "k = 4\n",
    "kmeans = KMeans(n_clusters=k, random_state=42)\n",
    "kmeans.fit(data_scaled)\n",
    "\n",
    "centers = kmeans.cluster_centers_\n",
    "print(\"Centros de los clusters (normalizados):\\n\", centers)"
   ]
  },
  {
   "cell_type": "code",
   "execution_count": 48,
   "id": "2133d3ee",
   "metadata": {},
   "outputs": [
    {
     "name": "stdout",
     "output_type": "stream",
     "text": [
      "[[ 0.          6.02685601  5.34148521 18.79482477]\n",
      " [ 6.02685601  0.          7.24639022 15.74798227]\n",
      " [ 5.34148521  7.24639022  0.         18.33304809]\n",
      " [18.79482477 15.74798227 18.33304809  0.        ]]\n"
     ]
    }
   ],
   "source": [
    "from scipy.spatial.distance import cdist\n",
    "distances = cdist(centers, centers, metric='euclidean')\n",
    "print(distances)\n"
   ]
  },
  {
   "cell_type": "code",
   "execution_count": 49,
   "id": "75d2bd7e",
   "metadata": {},
   "outputs": [
    {
     "name": "stdout",
     "output_type": "stream",
     "text": [
      "         num_reactions  num_comments  ...  num_sads  num_angrys\n",
      "cluster                               ...                      \n",
      "0           110.854603     80.411429  ...  0.120635    0.040794\n",
      "1           579.518414   2861.226629  ...  2.566572    1.390935\n",
      "2          1825.617251     61.474394  ...  0.032345    0.005391\n",
      "3          1618.000000   1626.846154  ...  1.538462    1.846154\n",
      "\n",
      "[4 rows x 9 columns]\n",
      "         num_reactions  num_comments  ...  num_sads  num_angrys\n",
      "cluster                               ...                      \n",
      "0           152.796452    248.965198  ...  0.804251    0.270387\n",
      "1           452.655486   2681.237010  ...  5.784159    2.655425\n",
      "2           653.756132    113.866001  ...  0.230228    0.073323\n",
      "3           405.484994    537.596331  ...  1.420726    1.869595\n",
      "\n",
      "[4 rows x 9 columns]\n",
      "         num_reactions  num_comments  ...  num_sads  num_angrys\n",
      "cluster                               ...                      \n",
      "0                 44.0           3.0  ...       0.0         0.0\n",
      "1                382.0        1942.0  ...       1.0         1.0\n",
      "2               1825.0          21.0  ...       0.0         0.0\n",
      "3               1562.0        1558.0  ...       1.0         1.5\n",
      "\n",
      "[4 rows x 9 columns]\n",
      "status_type\n",
      "photo     4053\n",
      "video     1902\n",
      "status     296\n",
      "link        49\n",
      "Name: count, dtype: int64\n",
      "status_type\n",
      "video    330\n",
      "photo     23\n",
      "Name: count, dtype: int64\n",
      "status_type\n",
      "photo     212\n",
      "video      76\n",
      "status     69\n",
      "link       14\n",
      "Name: count, dtype: int64\n",
      "status_type\n",
      "video    26\n",
      "Name: count, dtype: int64\n"
     ]
    }
   ],
   "source": [
    "labels = kmeans.labels_\n",
    "\n",
    "\n",
    "data['cluster'] = labels\n",
    "\n",
    "print(data.groupby('cluster')[cols].mean())\n",
    "print(data.groupby('cluster')[cols].std())\n",
    "print(data.groupby('cluster')[cols].median())\n",
    "print(data[data['cluster']==0]['status_type'].value_counts())\n",
    "print(data[data['cluster']==1]['status_type'].value_counts())\n",
    "print(data[data['cluster']==2]['status_type'].value_counts())\n",
    "print(data[data['cluster']==3]['status_type'].value_counts())"
   ]
  },
  {
   "cell_type": "markdown",
   "id": "55fd49f4",
   "metadata": {},
   "source": [
    "Se ha ajustado el número de clusters a 4. Esta elección se alinea muy bien con el \"codo\" más pronunciado en el gráfico del método del codo, lo que sugiere que esta es una agrupación más natural y robusta para los\n",
    "  datos.\n",
    "\n",
    "  Con 4 clusters, la segmentación se vuelve más clara y cada grupo representa un tipo de interacción muy bien definido. Notablemente, el clúster de \"publicaciones polémicas\" (alto en \"enojos\") que existía con k=5\n",
    "  ha sido absorbido, probablemente dentro del clúster de baja interacción, ya que representaba un grupo muy pequeño y específico.\n",
    "\n",
    "  A continuación, el perfil de los 4 nuevos clusters:\n",
    "\n",
    "  ---\n",
    "\n",
    "  Perfil de los Clusters (k=4)\n",
    "\n",
    "  Cluster 0: El Público General (Publicaciones de Baja Interacción)\n",
    "   - Características Principales: Sigue siendo el clúster más grande y representa las publicaciones con un nivel de interacción bajo. El promedio de reacciones es de ~110 y el de comentarios es de ~80.\n",
    "   - Tipo de Publicación Dominante: Contiene una mezcla de todos los tipos de publicación (photo, video, status, link), reflejando la composición general del dataset.\n",
    "   - Interpretación: Son las publicaciones del día a día, que mantienen la presencia en la red pero no generan un impacto masivo. Es la base de la comunicación.\n",
    "\n",
    "  Cluster 1: Los Videos que Generan Debate (Alto en Comentarios)\n",
    "   - Características Principales: Este clúster se define por un número excepcionalmente alto de comentarios (promedio de ~2860) y un número considerable de compartidos.\n",
    "   - Tipo de Publicación Dominante: De forma abrumadora, son video (330 de 353 publicaciones).\n",
    "   - Interpretación: Representa videos que incitan a la conversación. El contenido es ideal para generar comunidad y discusión, ya que la audiencia se siente motivada a dejar su opinión.\n",
    "\n",
    "  Cluster 2: Contenido de \"Me Gusta\" Fácil (Alto en Likes, Bajo en Comentarios)\n",
    "   - Características Principales: Caracterizado por un número muy alto de reacciones (promedio de ~1825), pero, en contraste, un número muy bajo de comentarios (promedio de ~61).\n",
    "   - Tipo de Publicación Dominante: Principalmente photo (fotos), aunque también hay videos y status.\n",
    "   - Interpretación: Publicaciones de consumo rápido y pasivo. Gustan a la audiencia (generan muchos \"likes\") pero no la motivan a interactuar de forma más profunda. Perfecto para contenido visualmente atractivo y\n",
    "     directo.\n",
    "\n",
    "  Cluster 3: El Contenido Estrella (Videos Virales de Alta Emoción)\n",
    "   - Características Principales: Este es el clúster de élite. Tiene un rendimiento sobresaliente en todas las métricas: reacciones (~1618), comentarios (~1626) y, lo más importante, un número altísimo de reacciones\n",
    "     emocionales como \"me encanta\", \"me asombra\" y \"me divierte\".\n",
    "   - Tipo de Publicación Dominante: Exclusivamente video.\n",
    "   - Interpretación: Representa el contenido viral de mayor impacto. Son videos que no solo se comparten y comentan, sino que también generan una fuerte respuesta emocional en la audiencia. Este es el contenido más\n",
    "     valioso en términos de engagement.\n",
    "\n",
    "  Conclusión\n",
    "\n",
    "  Con k=4, la segmentación es más clara y accionable. Te permite diferenciar perfectamente entre:\n",
    "   1. Contenido base (Cluster 0).\n",
    "   2. Videos para generar discusión (Cluster 1).\n",
    "   3. Fotos para generar \"likes\" fáciles (Cluster 2).\n",
    "   4. Videos \"estrella\" para un impacto máximo (Cluster 3)"
   ]
  }
 ],
 "metadata": {
  "kernelspec": {
   "display_name": "Python 3",
   "language": "python",
   "name": "python3"
  },
  "language_info": {
   "codemirror_mode": {
    "name": "ipython",
    "version": 3
   },
   "file_extension": ".py",
   "mimetype": "text/x-python",
   "name": "python",
   "nbconvert_exporter": "python",
   "pygments_lexer": "ipython3",
   "version": "3.12.6"
  }
 },
 "nbformat": 4,
 "nbformat_minor": 5
}
